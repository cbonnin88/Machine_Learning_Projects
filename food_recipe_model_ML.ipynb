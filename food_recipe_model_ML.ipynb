{
  "nbformat": 4,
  "nbformat_minor": 0,
  "metadata": {
    "colab": {
      "provenance": [],
      "authorship_tag": "ABX9TyMwJOinu8ci2jezt7NfWFuG",
      "include_colab_link": true
    },
    "kernelspec": {
      "name": "python3",
      "display_name": "Python 3"
    },
    "language_info": {
      "name": "python"
    }
  },
  "cells": [
    {
      "cell_type": "markdown",
      "metadata": {
        "id": "view-in-github",
        "colab_type": "text"
      },
      "source": [
        "<a href=\"https://colab.research.google.com/github/cbonnin88/Machine_Learning_Projects/blob/main/food_recipe_model_ML.ipynb\" target=\"_parent\"><img src=\"https://colab.research.google.com/assets/colab-badge.svg\" alt=\"Open In Colab\"/></a>"
      ]
    },
    {
      "cell_type": "code",
      "execution_count": 1,
      "metadata": {
        "id": "1pw2yaZ8NPY9"
      },
      "outputs": [],
      "source": [
        "import random"
      ]
    },
    {
      "cell_type": "code",
      "source": [
        "recipes = [\n",
        "    \"Pasta with Tomato Sauce: Boil pasta and mix with tomato sauce. Add salt and pepper to taste.\",\n",
        "    \"Chicken Stir-fry: Heat oil in a pan. Add chicken, vegeetables, and stir-fry sauce. Cook until done\",\n",
        "    \"Caeser Salade: Combine lettuce, tomatoes, cucumbers, and dressing in a bowl. Mix well\",\n",
        "    \"Omelette: Beat eggs and pour into a hot, greased pan. Add cheese, onions, and bell peppers. Flip and coook\",\n",
        "    \"Vegetable Soup: Boil mixed vegetables in broth until soft. Blend until smooth. Season with sal and pepper\"\n",
        "]"
      ],
      "metadata": {
        "id": "oxT6dfs4QMSQ"
      },
      "execution_count": 2,
      "outputs": []
    },
    {
      "cell_type": "code",
      "source": [
        "# Our function to train a Markov chain model on the dataset\n",
        "def train_markov_chain(text):\n",
        "  words= text.split()\n",
        "  words_pairs = [(words[i], words[i + 1]) for i in range(len(words)-1)]\n",
        "\n",
        "  # Creating the dictionary of word paris and their following words\n",
        "  markov_dict= {}\n",
        "  for w1,w2 in words_pairs:\n",
        "      if w1 in markov_dict:\n",
        "        markov_dict[w1].append(w2)\n",
        "      else:\n",
        "        markov_dict[w1] = [w2]\n",
        "  return markov_dict\n",
        "  markov_dict= {}\n",
        "  for w1,w2 in words_pairs:\n",
        "      if w1 in markov_dict:\n",
        "        markov_dict[w1].append(w2)\n",
        "  return markov_dict"
      ],
      "metadata": {
        "id": "o460uwBFRINm"
      },
      "execution_count": 12,
      "outputs": []
    },
    {
      "cell_type": "code",
      "source": [
        "# Generate a recipe using the markov chain model\n",
        "def generate_recipe(markov_dict,length=20):\n",
        "  start_word = random.choice(list(markov_dict.keys()))\n",
        "  recipe = [start_word]\n",
        "\n",
        "  for _ in range(length - 1):\n",
        "    next_word = random.choice(markov_dict[recipe[-1]])\n",
        "    recipe.append(next_word)\n",
        "  return \" \".join(recipe)"
      ],
      "metadata": {
        "id": "skmmx6gpSFeJ"
      },
      "execution_count": 5,
      "outputs": []
    },
    {
      "cell_type": "code",
      "source": [
        "# Training the model on the provided recipes\n",
        "recipe_corpus = \" \".join(recipes)\n",
        "markov_model = train_markov_chain(recipe_corpus)\n"
      ],
      "metadata": {
        "id": "FIhYW3FPS-Gh"
      },
      "execution_count": 6,
      "outputs": []
    },
    {
      "cell_type": "code",
      "source": [
        "# Generate and print recipe\n",
        "generated_recipe = generate_recipe(markov_model, length=15)\n",
        "print(\"Generated Recipe:\")\n",
        "print(\"------------------------------------\")\n",
        "print(generated_recipe)"
      ],
      "metadata": {
        "colab": {
          "base_uri": "https://localhost:8080/"
        },
        "id": "nrqZLCepTNcY",
        "outputId": "c179c8cc-64d4-4972-e4d9-016e203e166b"
      },
      "execution_count": 11,
      "outputs": [
        {
          "output_type": "stream",
          "name": "stdout",
          "text": [
            "Generated Recipe:\n",
            "------------------------------------\n",
            "hot, greased pan. Add salt and dressing in a pan. Add salt and pepper to\n"
          ]
        }
      ]
    }
  ]
}