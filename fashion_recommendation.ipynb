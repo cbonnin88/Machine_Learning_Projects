{
 "cells": [
  {
   "cell_type": "code",
   "execution_count": null,
   "id": "d260f82c",
   "metadata": {},
   "outputs": [
    {
     "name": "stderr",
     "output_type": "stream",
     "text": [
      "2025-05-20 16:02:32.662317: I tensorflow/core/platform/cpu_feature_guard.cc:210] This TensorFlow binary is optimized to use available CPU instructions in performance-critical operations.\n",
      "To enable the following instructions: AVX2 FMA, in other operations, rebuild TensorFlow with the appropriate compiler flags.\n"
     ]
    }
   ],
   "source": [
    "import pandas as pd\n",
    "import numpy as np\n",
    "import matplotlib.pyplot as plt\n",
    "from sklearn.model_selection import train_test_split\n",
    "from sklearn.preprocessing import StandardScaler\n",
    "from sklearn.metrics import accuracy_score\n",
    "import tensorflow as tf\n",
    "from keras import layers, models\n",
    "import gdown as gd"
   ]
  },
  {
   "cell_type": "code",
   "execution_count": 2,
   "id": "5d20ab11",
   "metadata": {},
   "outputs": [],
   "source": [
    "url = 'https://drive.google.com/uc?id=1IQHtvwGAIIdLZhoZrvvE2xvqtwFFkXK9'\n",
    "gd.download(url,'fashion-mnist_train.csv',quiet=True)\n",
    "\n",
    "fashion_data = pd.read_csv(\"fashion-mnist_train.csv\")"
   ]
  },
  {
   "cell_type": "code",
   "execution_count": 12,
   "id": "9110b931",
   "metadata": {},
   "outputs": [],
   "source": [
    "x = fashion_data.iloc[:, 1].values\n",
    "y = fashion_data.iloc[:, 0].values"
   ]
  },
  {
   "cell_type": "code",
   "execution_count": null,
   "id": "1904f54b",
   "metadata": {},
   "outputs": [
    {
     "name": "stdout",
     "output_type": "stream",
     "text": [
      "X shape:  (60000, 784)\n",
      "y shape:  (60000,)\n"
     ]
    }
   ],
   "source": [
    "X = x.reshape(-1,28,28,1) / 255.0"
   ]
  },
  {
   "cell_type": "code",
   "execution_count": 7,
   "id": "c68eaf4b",
   "metadata": {},
   "outputs": [],
   "source": [
    "# splitting the data into training and testing sets\n",
    "x_train, x_test,y_train,y_test = train_test_split(X,y,test_size=0.2,random_state=42)"
   ]
  },
  {
   "cell_type": "code",
   "execution_count": 8,
   "id": "d64bda08",
   "metadata": {},
   "outputs": [
    {
     "name": "stderr",
     "output_type": "stream",
     "text": [
      "/Library/Frameworks/Python.framework/Versions/3.12/lib/python3.12/site-packages/keras/src/layers/convolutional/base_conv.py:113: UserWarning: Do not pass an `input_shape`/`input_dim` argument to a layer. When using Sequential models, prefer using an `Input(shape)` object as the first layer in the model instead.\n",
      "  super().__init__(activity_regularizer=activity_regularizer, **kwargs)\n"
     ]
    }
   ],
   "source": [
    "# Building the Model \n",
    "model = models.Sequential([\n",
    "    layers.Conv2D(32,(3,3), activation='relu', input_shape=(28,28,1)),\n",
    "    layers.MaxPooling2D((2,2)),\n",
    "    layers.Conv2D(64,(3,3), activation='relu'),\n",
    "    layers.Flatten(),\n",
    "    layers.Dense(128,activation='relu'),\n",
    "    layers.Dense(10,activation='softmax')                     \n",
    "])"
   ]
  },
  {
   "cell_type": "code",
   "execution_count": 9,
   "id": "c17bcc25",
   "metadata": {},
   "outputs": [],
   "source": [
    "model.compile(optimizer='adam', loss='sparse_categorical_crossentropy',metrics=['accuracy'])"
   ]
  },
  {
   "cell_type": "code",
   "execution_count": null,
   "id": "ed3c820b",
   "metadata": {},
   "outputs": [],
   "source": [
    "# Training our model\n",
    "history = model.fit(x_train, y_train, epochs=10,validation_data=(x_test,y_test))"
   ]
  },
  {
   "cell_type": "code",
   "execution_count": null,
   "id": "f584ff39",
   "metadata": {},
   "outputs": [],
   "source": [
    "# Evaluating the model \n",
    "test_loss, test_acc= model.evaluate(x_test,y_test)\n",
    "print(f\"Test accuracy: {test_acc}\")"
   ]
  },
  {
   "cell_type": "code",
   "execution_count": null,
   "id": "25b1dbd7",
   "metadata": {},
   "outputs": [],
   "source": [
    "# Displaying sample images with their predicted labels\n",
    "num_images = 5\n",
    "plt.figure(figsize=(10,4))\n",
    "for i in range(num_images):\n",
    "    test_images = x_test[i].reshape(1,28,28,1)\n",
    "    predicted_label = np.argmax(model.predict(test_images))\n",
    "    \n",
    "    plt.subplot(1,num_images, i+1)\n",
    "    plt.imshow(x_test[i].reshape(28,28), cmap=\"grey\")\n",
    "    plt.title(f\"Predicted: {predicted_label}\")\n",
    "    plt.axis('off')"
   ]
  }
 ],
 "metadata": {
  "kernelspec": {
   "display_name": "Python 3",
   "language": "python",
   "name": "python3"
  },
  "language_info": {
   "codemirror_mode": {
    "name": "ipython",
    "version": 3
   },
   "file_extension": ".py",
   "mimetype": "text/x-python",
   "name": "python",
   "nbconvert_exporter": "python",
   "pygments_lexer": "ipython3",
   "version": "3.12.1"
  }
 },
 "nbformat": 4,
 "nbformat_minor": 5
}
